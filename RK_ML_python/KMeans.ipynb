{
 "cells": [
  {
   "cell_type": "markdown",
   "metadata": {
    "id": "cJ1It1fl_kWH"
   },
   "source": [
    "# Récupération du dataset\n",
    "## Téléchargement\n",
    "Si la commande gdown n'est pas reconnu, il faut l'installer :\n",
    "__pip install gdown__ Dataset"
   ]
  },
  {
   "cell_type": "code",
   "execution_count": null,
   "metadata": {
    "colab": {
     "base_uri": "https://localhost:8080/"
    },
    "id": "SbtX_4lF_rvD",
    "outputId": "dc211af3-9c1e-41e3-913b-1c71d128710c",
    "scrolled": true
   },
   "outputs": [],
   "source": [
    "!gdown --id 1sQEIPh3bdKQ_1J3g0Z8CRqD6uU7v746l"
   ]
  },
  {
   "cell_type": "markdown",
   "metadata": {},
   "source": [
    "## Décompression"
   ]
  },
  {
   "cell_type": "code",
   "execution_count": null,
   "metadata": {
    "id": "qEWzAzHYFI6B",
    "scrolled": true
   },
   "outputs": [],
   "source": [
    "!unzip dataset.zip"
   ]
  },
  {
   "cell_type": "markdown",
   "metadata": {},
   "source": [
    "## Vérification"
   ]
  },
  {
   "cell_type": "code",
   "execution_count": null,
   "metadata": {
    "colab": {
     "base_uri": "https://localhost:8080/"
    },
    "id": "2r-oOeuVFbXz",
    "outputId": "b17427fc-2d3d-48e7-ac9c-7ccd04e91841",
    "scrolled": true
   },
   "outputs": [],
   "source": [
    "# Librairie permettant de représenter le système de fichiers sous forme d'objet\n",
    "import pathlib\n",
    "\n",
    "# Construction d'un objet associé au dossier flowers dans le répertoire courant\n",
    "data_dir = pathlib.Path(\"./flowers\")\n",
    "\n",
    "# Vérifie si le chemin existe\n",
    "if data_dir.exists():\n",
    "    # Compte le nombre d'image qu'il y a dans les sous dossiers de flowers\n",
    "    image_count = len(list(data_dir.glob('*/*.jpg')))\n",
    "    print(\"Il y a\", image_count, \"images dans les sous-dossiers\")"
   ]
  },
  {
   "cell_type": "markdown",
   "metadata": {
    "id": "REGBZcte_tRK"
   },
   "source": [
    "## Load dataset"
   ]
  },
  {
   "cell_type": "code",
   "execution_count": null,
   "metadata": {
    "colab": {
     "base_uri": "https://localhost:8080/"
    },
    "id": "IskJyFf8GI_F",
    "outputId": "42baf49d-4078-4497-db4a-2c0f8ca9029e",
    "scrolled": false
   },
   "outputs": [],
   "source": [
    "from PIL import Image\n",
    "# Librarie numpy\n",
    "import numpy as np\n",
    "# Librairie permettant d'utiliser des fonctions dépendantes du sytème d'exploitation\n",
    "import os\n",
    "\n",
    "# Construction d'un objet associé au dossier flowers dans le répertoire courant\n",
    "data_dir = pathlib.Path(\"./flowers\")\n",
    "\n",
    "# Initialisation du dataset\n",
    "dataset = []\n",
    "\n",
    "# Vérifie si le chemin existe\n",
    "if data_dir.exists():\n",
    "    # Compte le nombre d'image qu'il y a dans les sous dossiers de flowers\n",
    "    image_count = len(list(data_dir.glob('*/*.jpg')))\n",
    "    print(\"Il y a\", image_count, \"images dans les sous-dossiers\")\n",
    "    \n",
    "    # Initialisation du compte des images utilisées dans le dataset\n",
    "    count = 0\n",
    "    \n",
    "    print(\"Construction du dataset..\")\n",
    "    # Pour chaque sous-dossier dans flowers\n",
    "    for label in os.listdir(\"./flowers/\"):\n",
    "        # Pour chaque fichier dans le sous-dossier\n",
    "        for filename in os.listdir(os.path.join(\"./flowers/\",label)):\n",
    "            # Incrémente le nombre d'image utilisées dans le dataset\n",
    "            count = count + 1\n",
    "            # Indique que l'on lit l'image <filename>\n",
    "            # print(str(count) + \" ---loading \" + filename)\n",
    "            # Lecture de l'image\n",
    "            image = Image.open(os.path.join(\"./flowers/\",label,filename))\n",
    "            image.load()\n",
    "            image = np.asarray(image, dtype=\"float32\" )\n",
    "            # Ajout au dataset de l'image associée à son dossier\n",
    "            dataset.append((image, label))"
   ]
  },
  {
   "cell_type": "code",
   "execution_count": null,
   "metadata": {
    "colab": {
     "base_uri": "https://localhost:8080/"
    },
    "id": "5wRY-WMGIQeb",
    "outputId": "277e3ecd-0438-487c-a25a-b8a7f1225d71",
    "scrolled": false
   },
   "outputs": [],
   "source": [
    "# Librairie permettant notamment de générer des nombres aléatoires\n",
    "import random\n",
    "# Affiche 10 échantillons du dataset tirés au hasard\n",
    "print(random.sample(dataset, 10))"
   ]
  },
  {
   "cell_type": "code",
   "execution_count": null,
   "metadata": {
    "id": "FoearZTtI5W6",
    "scrolled": true
   },
   "outputs": [],
   "source": [
    "print(\"Mélange aléatoirement le dataset..\")\n",
    "random.shuffle(dataset)"
   ]
  },
  {
   "cell_type": "markdown",
   "metadata": {
    "id": "EOY3raHxJZ-p"
   },
   "source": [
    "## Display dataset"
   ]
  },
  {
   "cell_type": "code",
   "execution_count": null,
   "metadata": {
    "colab": {
     "base_uri": "https://localhost:8080/",
     "height": 659
    },
    "id": "r1QP2CS8JeOb",
    "outputId": "6820a8fb-76e7-43c0-d0a8-bcce639edb42",
    "scrolled": true
   },
   "outputs": [],
   "source": [
    "# Librairie permettant notamment d'afficher proprement des images, graphiques, etc..\n",
    "import matplotlib.pyplot as plt\n",
    "\n",
    "# Renvoie un objet Figure, fig, et un tableau d'Axes\n",
    "    # fig correspond au conteneur de tous les éléments\n",
    "    # axs correspond à un tableau représentant les sous-parties de la figure\n",
    "    # Ici la Figure sera divisé en 9 cases (9 Axes)\n",
    "    fig, axs = plt.subplots(3, 3, figsize = (12, 12))\n",
    "    \n",
    "    # Modifie le mappage des couleurs des plots en gris\n",
    "    plt.gray()\n",
    "\n",
    "    # Description de dataset\n",
    "    #   dataset[i] = (matrice, dossier)\n",
    "    #   dataset[i][0] = matrice\n",
    "    #   dataset[i][1] = dossier\n",
    "    #   dataset[i][0][j] = ligne j de la matrice\n",
    "    #   dataset[i][0][j][k] = pixel aux coordonnées [j;k] de la matrice\n",
    "    for i, ax in enumerate(axs.flat):\n",
    "        # Place dans Axe dans la matrice de l'image i\n",
    "        ax.imshow(dataset[i][0].astype(\"int32\"))\n",
    "        # Désactive les axes\n",
    "        ax.axis('off')\n",
    "        # Ajoute un titre, celui du dossier auquel appartient l'image\n",
    "        ax.set_title(dataset[i][1])\n",
    "    \n",
    "    print(\"Affiche les 9 premières images du dataset\")\n",
    "    plt.show()"
   ]
  },
  {
   "cell_type": "markdown",
   "metadata": {
    "id": "aeEhsPQCL0Bb"
   },
   "source": [
    "# Preprocessing\n",
    "## Resizing"
   ]
  },
  {
   "cell_type": "code",
   "execution_count": null,
   "metadata": {
    "id": "K_KhGMaBOkYS",
    "scrolled": true
   },
   "outputs": [],
   "source": [
    "# Définition d'une taille pour redimensionner les images du dataset\n",
    "image_size = (32, 32)"
   ]
  },
  {
   "cell_type": "code",
   "execution_count": null,
   "metadata": {
    "id": "voaDdoD8OB3T",
    "scrolled": true
   },
   "outputs": [],
   "source": [
    "# Initialisation du tableau des images redimensionnées\n",
    "resized = []\n",
    "\n",
    "# Redimensionne les images du dataset et insères ces dernières dans le tableau resized\n",
    "for d in dataset:\n",
    "    resized.append((cv2.resize(d[0], image_size), d[1]))"
   ]
  },
  {
   "cell_type": "code",
   "execution_count": null,
   "metadata": {
    "id": "SvkpO2wFQkiK",
    "scrolled": true
   },
   "outputs": [],
   "source": [
    "# On considère maintenant le dataset comme étant les images redimensionnées\n",
    "dataset = resized"
   ]
  },
  {
   "cell_type": "markdown",
   "metadata": {
    "id": "j8la3H1eL5dV"
   },
   "source": [
    "## Reshape"
   ]
  },
  {
   "cell_type": "code",
   "execution_count": null,
   "metadata": {
    "colab": {
     "base_uri": "https://localhost:8080/"
    },
    "id": "9STKv5_aMk2s",
    "outputId": "708cf463-69c9-40fb-b76f-126f106d071f",
    "scrolled": true
   },
   "outputs": [],
   "source": [
    "images = np.asarray([d[0] for d in dataset])\n",
    "print(images.shape)"
   ]
  },
  {
   "cell_type": "code",
   "execution_count": null,
   "metadata": {
    "colab": {
     "base_uri": "https://localhost:8080/"
    },
    "id": "OVJUDshRL9QW",
    "outputId": "1ec706de-d0fc-4aa6-80c8-c324c5a87824",
    "scrolled": true
   },
   "outputs": [],
   "source": [
    "images = images.reshape(len(images), -1)\n",
    "print(images.shape)"
   ]
  },
  {
   "cell_type": "markdown",
   "metadata": {
    "id": "r36NBBYOL9n4"
   },
   "source": [
    "## Normalization"
   ]
  },
  {
   "cell_type": "code",
   "execution_count": null,
   "metadata": {
    "id": "7RhTS8a3L17l",
    "scrolled": true
   },
   "outputs": [],
   "source": [
    "images = images.astype(np.float32) / 255."
   ]
  },
  {
   "cell_type": "markdown",
   "metadata": {
    "id": "YFMYG4QxRagF"
   },
   "source": [
    "# K-Means Clustering"
   ]
  },
  {
   "cell_type": "code",
   "execution_count": null,
   "metadata": {
    "colab": {
     "base_uri": "https://localhost:8080/"
    },
    "id": "vCY1bN6c4ZdY",
    "outputId": "cd82ba45-a79e-4c9f-fd24-fc3f5f261cc0",
    "scrolled": true
   },
   "outputs": [],
   "source": [
    "from sklearn.cluster import MiniBatchKMeans\n",
    "number_clusters = 5\n",
    "kmeans = MiniBatchKMeans(n_clusters=number_clusters)\n",
    "kmeans.fit(images)"
   ]
  },
  {
   "cell_type": "code",
   "execution_count": null,
   "metadata": {
    "colab": {
     "base_uri": "https://localhost:8080/"
    },
    "id": "XKHOx_HJPJnp",
    "outputId": "a25ed9f4-c1fb-4599-9fad-2554efc66385",
    "scrolled": true
   },
   "outputs": [],
   "source": [
    "kmeans.labels_"
   ]
  },
  {
   "cell_type": "markdown",
   "metadata": {
    "id": "3LEV59myQKef"
   },
   "source": [
    "## Map clusters to classes"
   ]
  },
  {
   "cell_type": "code",
   "execution_count": null,
   "metadata": {
    "id": "GRNgqffVQOp2",
    "scrolled": true
   },
   "outputs": [],
   "source": [
    "def map_clusters_classes(kmeans, classes):\n",
    "  \n",
    "  mapping = {}\n",
    "  \n",
    "  for i in range(kmeans.n_clusters):\n",
    "    \n",
    "    #...\n",
    "        \n",
    "  return mapping\n",
    "\n",
    "def inference(kmeans, images, classes):\n",
    "  mapping = map_clusters_classes(kmeans, classes)\n",
    "  clusters = kmeans.predict(images)\n",
    "  predicted_classes = np.zeros(len(clusters)).astype(np.uint8)\n",
    "  for i in range(len(clusters)):\n",
    "    predicted_classes[i] = mapping[clusters[i]]\n",
    "  return predicted_classes"
   ]
  },
  {
   "cell_type": "code",
   "execution_count": null,
   "metadata": {
    "id": "fY-E7VBbYHA9",
    "scrolled": true
   },
   "outputs": [],
   "source": [
    "labels_classes_mapping = {\"daisy\":0,\"dandelion\":1,\"rose\":2,\"sunflower\":3,\"tulip\":4}\n",
    "classes = [labels_classes_mapping[d[1]] for d in dataset]\n",
    "classes = np.asarray(classes)\n",
    "predicted_classes = inference(kmeans, images, classes)\n",
    "print(predicted_classes[:20])\n",
    "print(classes[:20])"
   ]
  },
  {
   "cell_type": "markdown",
   "metadata": {
    "id": "IDLSY-fJYPnx"
   },
   "source": [
    "# Evaluation"
   ]
  },
  {
   "cell_type": "code",
   "execution_count": null,
   "metadata": {
    "id": "sgygdwdzYRhM",
    "scrolled": true
   },
   "outputs": [],
   "source": [
    "from sklearn.metrics import accuracy_score\n",
    "acc = accuracy_score(classes, predicted_classes)\n",
    "print('Accuracy: {}\\n'.format(acc))"
   ]
  },
  {
   "cell_type": "code",
   "execution_count": null,
   "metadata": {
    "id": "ZbiHiOF-YyHc",
    "scrolled": true
   },
   "outputs": [],
   "source": [
    "number_clusters = [5, 10, 16, 36, 64, 144, 256, 1024, 2048, 4098]\n",
    "acc_list = []\n",
    "\n",
    "for n_clusters in number_clusters:\n",
    "  #...\n",
    "  print('Accuracy: {}\\n'.format(acc))\n"
   ]
  },
  {
   "cell_type": "code",
   "execution_count": null,
   "metadata": {
    "id": "wnL0mCLkX_OO",
    "scrolled": true
   },
   "outputs": [],
   "source": [
    "fig, ax = plt.subplots(1, 1, figsize=(10, 10))\n",
    "ax.plot(number_clusters, acc_list, label='accuracy', marker='^')\n",
    "ax.legend(loc='best')\n",
    "ax.grid('on')\n",
    "ax.set_title('Accuracy per each cluster number')\n",
    "plt.show()"
   ]
  }
 ],
 "metadata": {
  "colab": {
   "collapsed_sections": [],
   "name": "KMeans.ipynb",
   "provenance": []
  },
  "kernelspec": {
   "display_name": "Python 3",
   "language": "python",
   "name": "python3"
  },
  "language_info": {
   "codemirror_mode": {
    "name": "ipython",
    "version": 3
   },
   "file_extension": ".py",
   "mimetype": "text/x-python",
   "name": "python",
   "nbconvert_exporter": "python",
   "pygments_lexer": "ipython3",
   "version": "3.9.9"
  }
 },
 "nbformat": 4,
 "nbformat_minor": 1
}
