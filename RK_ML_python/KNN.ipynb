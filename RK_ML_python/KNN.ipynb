{
 "cells": [
  {
   "cell_type": "markdown",
   "metadata": {
    "id": "cJ1It1fl_kWH"
   },
   "source": [
    "# Récupération du dataset\n",
    "## Téléchargement\n",
    "Si la commande gdown n'est pas reconnu, il faut l'installer :\n",
    "__pip install gdown__"
   ]
  },
  {
   "cell_type": "code",
   "execution_count": null,
   "metadata": {
    "id": "SbtX_4lF_rvD"
   },
   "outputs": [],
   "source": [
    "!gdown --id 1sQEIPh3bdKQ_1J3g0Z8CRqD6uU7v746l"
   ]
  },
  {
   "cell_type": "markdown",
   "metadata": {},
   "source": [
    "## Décompresser le dataset"
   ]
  },
  {
   "cell_type": "code",
   "execution_count": 2,
   "metadata": {
    "id": "qEWzAzHYFI6B"
   },
   "outputs": [
    {
     "name": "stdout",
     "output_type": "stream",
     "text": [
      "Archive:  dataset.zip\r\n"
     ]
    }
   ],
   "source": [
    "!unzip -u dataset.zip"
   ]
  },
  {
   "cell_type": "markdown",
   "metadata": {},
   "source": [
    "## Vérification"
   ]
  },
  {
   "cell_type": "code",
   "execution_count": null,
   "metadata": {
    "id": "2r-oOeuVFbXz"
   },
   "outputs": [],
   "source": [
    "# Librairie permettant de représenter le système de fichiers sous forme d'objet\n",
    "import pathlib\n",
    "\n",
    "# Construction d'un objet associé au dossier flowers dans le répertoire courant\n",
    "data_dir = pathlib.Path(\"./flowers\")\n",
    "\n",
    "# Vérifie si le chemin existe\n",
    "if data_dir.exists():\n",
    "    # Compte le nombre d'image qu'il y a dans les sous dossiers de flowers\n",
    "    image_count = len(list(data_dir.glob('*/*.jpg')))\n",
    "    print(\"Il y a\", image_count, \"images dans les sous-dossiers\")"
   ]
  },
  {
   "cell_type": "markdown",
   "metadata": {
    "id": "REGBZcte_tRK"
   },
   "source": [
    "# Construction du dataset"
   ]
  },
  {
   "cell_type": "code",
   "execution_count": null,
   "metadata": {
    "id": "IskJyFf8GI_F"
   },
   "outputs": [],
   "source": [
    "# Librarie OpenCV\n",
    "import cv2\n",
    "# Librarie numpy\n",
    "import numpy as np\n",
    "# Librairie permettant d'utiliser des fonctions dépendantes du sytème d'exploitation\n",
    "import os\n",
    "\n",
    "# Initialisation du dataset\n",
    "dataset = []\n",
    "# Initialisation du compte des images utilisées dans le dataset\n",
    "count = 0\n",
    "\n",
    "print(\"Construction du dataset..\")\n",
    "# Pour chaque sous-dossier dans flowers\n",
    "for label in os.listdir(\"./flowers/\"):\n",
    "    # Pour chaque fichier dans le sous-dossier\n",
    "    for filename in os.listdir(os.path.join(\"./flowers/\",label))::\n",
    "        # Incrémente le nombre d'image utilisées dans le dataset\n",
    "        count = count + 1\n",
    "        # Indique que l'on lit l'image <filename>\n",
    "        # print(str(count) + \" ---loading \" + filename)\n",
    "        # Lecture de l'image\n",
    "        image = cv2.imread(os.path.join(\"./flowers/\",label,filename))\n",
    "        # Ajout au dataset de l'image associée à son dossier\n",
    "        dataset.append((image, label))"
   ]
  },
  {
   "cell_type": "markdown",
   "metadata": {},
   "source": [
    "## Mélange le dataset"
   ]
  },
  {
   "cell_type": "code",
   "execution_count": null,
   "metadata": {
    "id": "5wRY-WMGIQeb"
   },
   "outputs": [],
   "source": [
    "# Librairie permettant notamment de générer des nombres aléatoires\n",
    "import random\n",
    "# Affiche la matrice et le dossier de l'image correspondante de 10 fichiers tirés aléatoirement\n",
    "# print(random.sample(dataset, 10))\n",
    "\n",
    "# Mélange aléatoirement le dataset\n",
    "random.shuffle(dataset)"
   ]
  },
  {
   "cell_type": "markdown",
   "metadata": {
    "id": "EOY3raHxJZ-p"
   },
   "source": [
    "## Affichage de 9 éléments du dataset"
   ]
  },
  {
   "cell_type": "code",
   "execution_count": null,
   "metadata": {
    "id": "r1QP2CS8JeOb"
   },
   "outputs": [],
   "source": [
    "# Renvoie un objet Figure, fig, et un tableau d'Axes\n",
    "# fig correspond au conteneur de tous les éléments\n",
    "# axs correspond à un tableau représentant les sous-parties de la figure\n",
    "# Ici la Figure sera divisé en 9 cases (9 Axes)\n",
    "fig, axs = plt.subplots(3, 3, figsize = (12, 12))\n",
    "\n",
    "# Modifie le mappage des couleurs des plots en gris\n",
    "plt.gray()\n",
    "\n",
    "# Description de dataset\n",
    "#   dataset[i] = (matrice, dossier)\n",
    "#   dataset[i][0] = matrice\n",
    "#   dataset[i][1] = dossier\n",
    "#   dataset[i][0][j] = ligne j de la matrice\n",
    "#   dataset[i][0][j][k] = pixel aux coordonnées [j;k] de la matrice\n",
    "for i, ax in enumerate(axs.flat):\n",
    "    # Place dans Axe dans la matrice de l'image i\n",
    "    ax.imshow(dataset[i][0])\n",
    "    # Désactive les axes\n",
    "    ax.axis('off')\n",
    "    # Ajoute un titre, celui du dossier auquel appartient l'image\n",
    "    ax.set_title(dataset[i][1])\n",
    "\n",
    "print(\"Affiche les 9 premières images du dataset\")\n",
    "plt.show()"
   ]
  },
  {
   "cell_type": "markdown",
   "metadata": {
    "id": "95j71HpVpN6e"
   },
   "source": [
    "# Construction du modèle\n",
    "## Définition d'extracteurs de features (variables caractéristiques)\n",
    "### Features à partir de l'image brut\n",
    "Définition d'une fonction qui transforme une image en une feature pour modèle ML"
   ]
  },
  {
   "cell_type": "code",
   "execution_count": null,
   "metadata": {
    "id": "REKfg99ooTpo"
   },
   "outputs": [],
   "source": [
    "def image_to_feature_vector(image, size=(32, 32)):\n",
    "    \"\"\"\n",
    "    Redimensionne l'image en argument en 32x23 et construit un tableau d'1D avec l'image\n",
    "    Cela permet d'utiliser le résultat comme feature d'une modèle de ML\n",
    "\n",
    "    Args:\n",
    "        image (Mat): image lue avec cv2.imread\n",
    "        size (tuple, optional): Taille de l'image après avoir été redimensionnée. Valeur par défaut : (32, 32).\n",
    "\n",
    "    Returns:\n",
    "        Mat: Image redimensionnée et \"applatie\"/transformée en tableau 1D\n",
    "    \"\"\"    \n",
    "    return cv2.resize(image, size).flatten()"
   ]
  },
  {
   "cell_type": "markdown",
   "metadata": {
    "id": "N-Zy2dPypTW8"
   },
   "source": [
    "### Features à partir de l'histogramme de l'image brut\n",
    "Définition d'une fonction qui récupère l'histogramme d'une image et le transforme une feature pour modèle ML"
   ]
  },
  {
   "cell_type": "code",
   "execution_count": null,
   "metadata": {
    "id": "8j-fbnTroUVT"
   },
   "outputs": [],
   "source": [
    "def extract_color_histogram(image, bins=(8, 8, 8)):\n",
    "    \"\"\"\n",
    "    Renvoie l'histogramme \"applati\"/transformé en tableau 1D de l'image en argument\n",
    "    Cela permet d'utiliser le résultat comme feature d'une modèle de ML\n",
    "\n",
    "    Args:\n",
    "        image ([Mat]): image lue avec cv2.imread\n",
    "        bins (tuple, optional): Nombre de subdivisions dans chaque dimensions. Valeur par défaut : (8, 8, 8).\n",
    "\n",
    "    Returns:\n",
    "        [Mat]: histogramme \"applati\"/transformé en tableau 1D de l'image en argument\n",
    "    \"\"\"\n",
    "    # Changement d'espace de couleur : BGR -> HSV\n",
    "    hsv = cv2.cvtColor(image, cv2.COLOR_BGR2HSV)\n",
    "    # Calcul de l'histogramme\n",
    "    hist = cv2.calcHist([hsv], [0, 1, 2], None, bins,[0, 180, 0, 256, 0, 256])\n",
    "    # Normalisation de l'histogramme\n",
    "    cv2.normalize(hist,hist)\n",
    "    # Transformation de l'histogramme en tableau 1D\n",
    "    return hist.flatten()"
   ]
  },
  {
   "cell_type": "markdown",
   "metadata": {
    "id": "zUAFZpoSphqk"
   },
   "source": [
    "## Pré-Traitement\n",
    "### Initialisation"
   ]
  },
  {
   "cell_type": "code",
   "execution_count": null,
   "metadata": {
    "id": "cTXUM-ynpke1"
   },
   "outputs": [],
   "source": [
    "# Initialisation des paramètres de test du modèle\n",
    "rawImages = []\n",
    "features = []\n",
    "labels = []\n",
    "\n",
    "# Définition d'un dictionnaire permettant d'associer une espèce de fleur à un nombre\n",
    "labels_classes_mapping = {\"daisy\":0,\"dandelion\":1,\"rose\":2,\"sunflower\":3,\"tulip\":4}"
   ]
  },
  {
   "cell_type": "markdown",
   "metadata": {},
   "source": [
    "### Extraction des features"
   ]
  },
  {
   "cell_type": "code",
   "execution_count": null,
   "metadata": {
    "id": "dFDu0xSup2r_"
   },
   "outputs": [],
   "source": [
    "print(\"Séparation des features et des labels\")\n",
    "for (image, label) in dataset:\n",
    "    # Construction de features avec les images bruts redimensionnées en 32x32\n",
    "    rawImages.append(image_to_feature_vector(image))\n",
    "    # Construction de features avec l'histogramme des images bruts\n",
    "    features.append(extract_color_histogram(image))\n",
    "    # Construction d'un tableau avec les labels\n",
    "    labels.append(labels_classes_mapping[label])"
   ]
  },
  {
   "cell_type": "markdown",
   "metadata": {},
   "source": [
    "### Mise en forme et vérification"
   ]
  },
  {
   "cell_type": "code",
   "execution_count": null,
   "metadata": {
    "id": "XaYeVNRVrnm9"
   },
   "outputs": [],
   "source": [
    "# Transformation des tableaux en tableau numpy\n",
    "rawImages = np.array(rawImages)\n",
    "features = np.array(features)\n",
    "labels = np.array(labels)\n",
    "\n",
    "# Affiche la forme des tableau (nbCases1D, nbCases2D, ..., nbCasesND)\n",
    "print(rawImages.shape)\n",
    "print(features.shape)\n",
    "print(labels.shape)"
   ]
  },
  {
   "cell_type": "markdown",
   "metadata": {
    "id": "_c_ZcIG0ryXt"
   },
   "source": [
    "### Séparation de la base de test et la base d'entraînement"
   ]
  },
  {
   "cell_type": "code",
   "execution_count": null,
   "metadata": {
    "id": "Hd9pr9i8r2DQ"
   },
   "outputs": [],
   "source": [
    "# train_test_split diviser notre ensemble de données en sous-ensembles qui minimisera le risque de biais dans notre processus d'évaluation et de validation.\n",
    "from sklearn.model_selection import train_test_split\n",
    "\n",
    "print(\"Création de données d'entraînement avec les images bruts redimensionnées..\")\n",
    "(trainRawX, testRawX, trainRawY, testRawY) = train_test_split(rawImages, labels, test_size=0.25, random_state=42)\n",
    "print(\"Création de données d'entraînement avec l'histogramme de l'image..\")\n",
    "(trainFeatX, testFeatX, trainFeatY, testFeatY) = train_test_split(features, labels, test_size=0.25, random_state=42)"
   ]
  },
  {
   "cell_type": "markdown",
   "metadata": {
    "id": "8cMjK37DsF-x"
   },
   "source": [
    "## Utilisation d'un modèle KNN "
   ]
  },
  {
   "cell_type": "code",
   "execution_count": null,
   "metadata": {
    "id": "QJrw5yS0sJPV"
   },
   "outputs": [],
   "source": [
    "# KNeighborsClassifier permet de classifier les données dans un modèle à l'aide de l'algorithme des k plus proches voisins\n",
    "from sklearn.neighbors import KNeighborsClassifier\n",
    "\n",
    "model = KNeighborsClassifier(n_neighbors=100, n_jobs=-1)\n",
    "print(\"Entraînement du modèle avec les images bruts redimensionnées en 32x32..\")\n",
    "model.fit(trainRawX, trainRawY)\n",
    "acc = model.score(testRawX, testRawY)\n",
    "print(\"raw pixel accuracy: {:.2f}%\".format(acc * 100))"
   ]
  },
  {
   "cell_type": "code",
   "execution_count": null,
   "metadata": {
    "id": "_rWvuzXisMka"
   },
   "outputs": [],
   "source": [
    "model = KNeighborsClassifier(n_neighbors=100, n_jobs=-1)\n",
    "print(\"Entraînement du modèle avec l'histogramme des images..\")\n",
    "model.fit(trainFeatX, trainFeatY)\n",
    "acc = model.score(testFeatX, testFeatY)\n",
    "print(\"histogram accuracy: {:.2f}%\".format(acc * 100))"
   ]
  },
  {
   "cell_type": "markdown",
   "metadata": {},
   "source": [
    "Après exécution des deux modèles, on se rend compte que le modèle le plus efficace est celui dont les données d'entrée était l'histogramme des images"
   ]
  },
  {
   "cell_type": "code",
   "execution_count": null,
   "metadata": {},
   "outputs": [],
   "source": []
  }
 ],
 "metadata": {
  "colab": {
   "collapsed_sections": [],
   "name": "KNN.ipynb",
   "provenance": []
  },
  "kernelspec": {
   "display_name": "Python 3 (ipykernel)",
   "language": "python",
   "name": "python3"
  },
  "language_info": {
   "codemirror_mode": {
    "name": "ipython",
    "version": 3
   },
   "file_extension": ".py",
   "mimetype": "text/x-python",
   "name": "python",
   "nbconvert_exporter": "python",
   "pygments_lexer": "ipython3",
   "version": "3.9.7"
  }
 },
 "nbformat": 4,
 "nbformat_minor": 1
}
