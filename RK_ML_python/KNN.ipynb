{
  "nbformat": 4,
  "nbformat_minor": 0,
  "metadata": {
    "colab": {
      "name": "KNN.ipynb",
      "provenance": [],
      "collapsed_sections": []
    },
    "kernelspec": {
      "name": "python3",
      "display_name": "Python 3"
    },
    "language_info": {
      "name": "python"
    }
  },
  "cells": [
    {
      "cell_type": "markdown",
      "metadata": {
        "id": "cJ1It1fl_kWH"
      },
      "source": [
        "#Download Dataset"
      ]
    },
    {
      "cell_type": "code",
      "metadata": {
        "id": "SbtX_4lF_rvD"
      },
      "source": [
        "!gdown --id 1sQEIPh3bdKQ_1J3g0Z8CRqD6uU7v746l"
      ],
      "execution_count": null,
      "outputs": []
    },
    {
      "cell_type": "code",
      "metadata": {
        "id": "qEWzAzHYFI6B"
      },
      "source": [
        "!unzip dataset.zip"
      ],
      "execution_count": null,
      "outputs": []
    },
    {
      "cell_type": "code",
      "metadata": {
        "id": "2r-oOeuVFbXz"
      },
      "source": [
        "import pathlib\n",
        "data_dir = pathlib.Path(\"./flowers\")\n",
        "image_count = len(list(data_dir.glob('*/*.jpg')))\n",
        "print(image_count)"
      ],
      "execution_count": null,
      "outputs": []
    },
    {
      "cell_type": "markdown",
      "metadata": {
        "id": "REGBZcte_tRK"
      },
      "source": [
        "#Load dataset"
      ]
    },
    {
      "cell_type": "code",
      "metadata": {
        "id": "IskJyFf8GI_F"
      },
      "source": [
        "import cv2\n",
        "import numpy as np\n",
        "import os\n",
        "\n",
        "dataset = []\n",
        "count = 0\n",
        "for label in os.listdir(\"./flowers/\"):\n",
        "  for filename in os.listdir(os.path.join(\"./flowers/\",label)):\n",
        "    count = count + 1\n",
        "    print(str(count) + \" ---loading \" + filename)\n",
        "    image = cv2.imread(os.path.join(\"./flowers/\",label,filename))\n",
        "    dataset.append((image, label))"
      ],
      "execution_count": null,
      "outputs": []
    },
    {
      "cell_type": "code",
      "metadata": {
        "id": "5wRY-WMGIQeb"
      },
      "source": [
        "import random\n",
        "print(random.sample(dataset, 10))"
      ],
      "execution_count": null,
      "outputs": []
    },
    {
      "cell_type": "code",
      "metadata": {
        "id": "FoearZTtI5W6"
      },
      "source": [
        "import random\n",
        "random.shuffle(dataset)"
      ],
      "execution_count": null,
      "outputs": []
    },
    {
      "cell_type": "markdown",
      "metadata": {
        "id": "EOY3raHxJZ-p"
      },
      "source": [
        "#Display dataset"
      ]
    },
    {
      "cell_type": "code",
      "metadata": {
        "id": "r1QP2CS8JeOb"
      },
      "source": [
        "import matplotlib.pyplot as plt\n",
        "fig, axs = plt.subplots(3, 3, figsize = (12, 12))\n",
        "plt.gray()\n",
        "\n",
        "for i, ax in enumerate(axs.flat):\n",
        "  ax.imshow(dataset[i][0][:,:,::-1])\n",
        "  ax.axis('off')\n",
        "  ax.set_title(dataset[i][1])\n",
        "plt.show()"
      ],
      "execution_count": null,
      "outputs": []
    },
    {
      "cell_type": "markdown",
      "metadata": {
        "id": "nP4U_YY9nddo"
      },
      "source": [
        "#Define Feature Extractor"
      ]
    },
    {
      "cell_type": "markdown",
      "metadata": {
        "id": "95j71HpVpN6e"
      },
      "source": [
        "##Raw pixel values"
      ]
    },
    {
      "cell_type": "code",
      "metadata": {
        "id": "REKfg99ooTpo"
      },
      "source": [
        "import cv2\n",
        "def image_to_feature_vector(image, size=(32, 32)):\n",
        "  return cv2.resize(image, size).flatten()"
      ],
      "execution_count": null,
      "outputs": []
    },
    {
      "cell_type": "markdown",
      "metadata": {
        "id": "N-Zy2dPypTW8"
      },
      "source": [
        "##Histogram"
      ]
    },
    {
      "cell_type": "code",
      "metadata": {
        "id": "8j-fbnTroUVT"
      },
      "source": [
        "import imutils\n",
        "def extract_color_histogram(image, bins=(8, 8, 8)):\n",
        "  hsv = cv2.cvtColor(image, cv2.COLOR_BGR2HSV)\n",
        "  \n",
        "  hist = cv2.calcHist([hsv], [0, 1, 2], None, bins,[0, 180, 0, 256, 0, 256])\n",
        "  cv2.normalize(hist,hist)\n",
        "  \n",
        "  return hist.flatten()"
      ],
      "execution_count": null,
      "outputs": []
    },
    {
      "cell_type": "markdown",
      "metadata": {
        "id": "zUAFZpoSphqk"
      },
      "source": [
        "#Feature extraction"
      ]
    },
    {
      "cell_type": "code",
      "metadata": {
        "id": "cTXUM-ynpke1"
      },
      "source": [
        "rawImages = []\n",
        "features = []\n",
        "labels = []"
      ],
      "execution_count": null,
      "outputs": []
    },
    {
      "cell_type": "code",
      "metadata": {
        "id": "dFDu0xSup2r_"
      },
      "source": [
        "labels_classes_mapping = {\"daisy\":0,\"dandelion\":1,\"rose\":2,\"sunflower\":3,\"tulip\":4}\n",
        "for (image, label) in dataset:\n",
        "\t#..."
      ],
      "execution_count": null,
      "outputs": []
    },
    {
      "cell_type": "code",
      "metadata": {
        "id": "XaYeVNRVrnm9"
      },
      "source": [
        "rawImages = np.array(rawImages)\n",
        "features = np.array(features)\n",
        "labels = np.array(labels)\n",
        "print(rawImages.shape)\n",
        "print(features.shape)\n",
        "print(labels.shape)"
      ],
      "execution_count": null,
      "outputs": []
    },
    {
      "cell_type": "markdown",
      "metadata": {
        "id": "_c_ZcIG0ryXt"
      },
      "source": [
        "#Split Train/Test"
      ]
    },
    {
      "cell_type": "code",
      "metadata": {
        "id": "Hd9pr9i8r2DQ"
      },
      "source": [
        "from sklearn.model_selection import train_test_split\n",
        "(trainRawX, testRawX, trainRawY, testRawY) = train_test_split(rawImages, labels, test_size=0.25, random_state=42)\n",
        "(trainFeatX, testFeatX, trainFeatY, testFeatY) = train_test_split(features, labels, test_size=0.25, random_state=42)"
      ],
      "execution_count": null,
      "outputs": []
    },
    {
      "cell_type": "markdown",
      "metadata": {
        "id": "8cMjK37DsF-x"
      },
      "source": [
        "#KNN "
      ]
    },
    {
      "cell_type": "code",
      "metadata": {
        "id": "QJrw5yS0sJPV"
      },
      "source": [
        "from sklearn.neighbors import KNeighborsClassifier\n",
        "\n",
        "model = KNeighborsClassifier(n_neighbors=100,n_jobs=-1)\n",
        "model.fit(trainRawX, trainRawY)\n",
        "acc = model.score(testRawX, testRawY)\n",
        "print(\"raw pixel accuracy: {:.2f}%\".format(acc * 100))"
      ],
      "execution_count": null,
      "outputs": []
    },
    {
      "cell_type": "code",
      "metadata": {
        "id": "_rWvuzXisMka"
      },
      "source": [
        "from sklearn.neighbors import KNeighborsClassifier\n",
        "\n",
        "model = KNeighborsClassifier(n_neighbors=100,n_jobs=-1)\n",
        "model.fit(trainFeatX, trainFeatY)\n",
        "acc = model.score(testFeatX, testFeatY)\n",
        "print(\"histogram accuracy: {:.2f}%\".format(acc * 100))"
      ],
      "execution_count": null,
      "outputs": []
    }
  ]
}