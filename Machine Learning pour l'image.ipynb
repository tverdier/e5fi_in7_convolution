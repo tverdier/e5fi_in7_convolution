{
 "cells": [
  {
   "cell_type": "markdown",
   "metadata": {},
   "source": [
    "# TD_Machine Learning_Python et OpenCV\n",
    "## Equipe 11 : Céline NGUYEN, Pierre LEBAS, Thibault VERDIER et Pierre MESTRE\n",
    "\n",
    "## 1. Introduction\n",
    "### 1.1 Objectif\n",
    "L’objectif de ce TD est de prendre en main des outils et techniques de « Machine Learning » pour le\n",
    "traitement d’image :\n",
    "- Charger et manipuler une base d’image\n",
    "- Appliquer les compétences en langage Python\n",
    "- Programmer certains opérateurs de « Machine Learning » traitement d'image.\n",
    "- Création de modèle « Machine Learning » à partir d’une base d’apprentissage\n",
    "- Application et évaluation de ce modèle sur une base de test\n",
    "\n",
    "### 1.2 Intelligence Artificielle pour l’image\n",
    "Les outils et techniques de « Machine Learning » utilisés dans ce TD pour le traitement d’image sont :\n",
    "- KMeans\n",
    "- KNN\n",
    "- SVM"
   ]
  },
  {
   "cell_type": "code",
   "execution_count": null,
   "metadata": {},
   "outputs": [],
   "source": []
  }
 ],
 "metadata": {
  "kernelspec": {
   "display_name": "Python 3",
   "language": "python",
   "name": "python3"
  },
  "language_info": {
   "codemirror_mode": {
    "name": "ipython",
    "version": 3
   },
   "file_extension": ".py",
   "mimetype": "text/x-python",
   "name": "python",
   "nbconvert_exporter": "python",
   "pygments_lexer": "ipython3",
   "version": "3.9.9"
  }
 },
 "nbformat": 4,
 "nbformat_minor": 4
}
