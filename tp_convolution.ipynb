{
 "cells": [
  {
   "cell_type": "markdown",
   "metadata": {},
   "source": [
    "# IN7 - IA pour l'image"
   ]
  },
  {
   "cell_type": "markdown",
   "metadata": {},
   "source": [
    "## 1. Introduction"
   ]
  },
  {
   "cell_type": "markdown",
   "metadata": {},
   "source": [
    "### 1.1. Objectif"
   ]
  },
  {
   "cell_type": "markdown",
   "metadata": {},
   "source": [
    "L’objectif de ce TD est de prendre en main la librairie générale (OpenCV) de traitement d’image :\n",
    " - Lire et traiter une image, vidéo ou le flux d’une Webcam avec OpenCV\n",
    " - Appliquer les compétences en langage Python\n",
    " - Programmer certains opérateurs de traitement d'image avec OpenCV"
   ]
  },
  {
   "cell_type": "markdown",
   "metadata": {},
   "source": [
    "### 1.2. OpenCV"
   ]
  },
  {
   "cell_type": "markdown",
   "metadata": {},
   "source": [
    "OpenCV est une librairie de traitement d’image qui offre un bon éventail de fonctions intégrées et puissantes. Une description détaillée de ces fonctions est disponible en ligne à l’adresse suivante :\n",
    "http://docs.opencv.org/master\n",
    "\n",
    "Dans ce TD nous allons récupérer le flux vidéo d’une webcam tout en analysant chaque commande pour\n",
    "bien comprendre leur utilité."
   ]
  },
  {
   "cell_type": "markdown",
   "metadata": {},
   "source": [
    "## 2. Opérations de base"
   ]
  },
  {
   "cell_type": "code",
   "execution_count": 2,
   "metadata": {},
   "outputs": [],
   "source": [
    "# Import de la bibliothèque OpenCV\n",
    "import cv2\n",
    "# import de la bibliothèque Numpy\n",
    "import numpy as np"
   ]
  },
  {
   "cell_type": "markdown",
   "metadata": {},
   "source": [
    "### 2.1. Création et manipulation d’images avec Python et OpenCV."
   ]
  },
  {
   "cell_type": "code",
   "execution_count": null,
   "metadata": {},
   "outputs": [],
   "source": [
    "# Définition de l'image noir en 128x128\n",
    "img = np.zeros((128,128,3),np.uint8)\n",
    "\n",
    "# Afficher la matrice correspondante dans la console\n",
    "# print(img)\n",
    "\n",
    "# Affichage de l'image\n",
    "cv2.imshow(\"Image\",img)\n",
    "\n",
    "# Attente d'un entrée clavier utilisateur quelconque\n",
    "cv2.waitKey(0)\n",
    "\n",
    "# Ferme la fenêtre où étaient affichée l'image\n",
    "cv2.destroyWindow(\"Image\")\n"
   ]
  },
  {
   "cell_type": "markdown",
   "metadata": {},
   "source": [
    "### 2.2  Modifiez ce code pour afficher trois images de taille 512*512 respectivement de couleur Rouge, Verte et Bleue"
   ]
  },
  {
   "cell_type": "markdown",
   "metadata": {},
   "source": [
    "On définit une fonction qui permet de générer une image d'une certaine taille, d'une certaine couleur sous forme de tableau numpy"
   ]
  },
  {
   "cell_type": "code",
   "execution_count": null,
   "metadata": {},
   "outputs": [],
   "source": [
    "# Import de l'objet Tuple qui servira à représenter un vecteur 3D (couleur)\n",
    "from typing import Tuple\n",
    "\n",
    "def createRgbColorImg(width, height, rgb_color=(0, 0, 0)):\n",
    "    # Création d'une image noire\n",
    "    image = np.zeros((height, width, 3), np.uint8)\n",
    "\n",
    "    # OpenCV utilise le format BGR (Blue, Green, Red) pour encoder les pixels\n",
    "    # Conversion d'une couleur RGB en une couleur BGR\n",
    "    color = tuple(reversed(rgb_color))\n",
    "\n",
    "    # Applique la couleur BGR à chaque pixel de l'image\n",
    "    image[:] = color\n",
    "\n",
    "    return image"
   ]
  },
  {
   "cell_type": "markdown",
   "metadata": {},
   "source": [
    "Puis on l'utilise pour créer et afficher les 3 images"
   ]
  },
  {
   "cell_type": "code",
   "execution_count": null,
   "metadata": {},
   "outputs": [],
   "source": [
    "# Définition des 3 images Rouge, Verte et Bleue\n",
    "img_red = createRgbColorImg(512, 512, (255, 0, 0))\n",
    "img_green = createRgbColorImg(512, 512, (0, 255, 0))\n",
    "img_blue = createRgbColorImg(512, 512, (0, 0, 255))\n",
    "\n",
    "# Affichage des 3 Images\n",
    "cv2.imshow(\"Image_rouge\", img_red)\n",
    "cv2.imshow(\"Image_verte\", img_green)\n",
    "cv2.imshow(\"Image_bleue\", img_blue)\n",
    "\n",
    "# Attente d'un entrée clavier utilisateur quelconque\n",
    "cv2.waitKey(0)\n",
    "\n",
    "# Ferme toutes les fenêtres où étaient affichées les images\n",
    "cv2.destroyWindow(\"Image_rouge\")\n",
    "cv2.destroyWindow(\"Image_verte\")\n",
    "cv2.destroyWindow(\"Image_bleue\")"
   ]
  },
  {
   "cell_type": "markdown",
   "metadata": {},
   "source": [
    "###  2.3. Insérez des lignes, rectangles, cercles et du texte dans ces images "
   ]
  },
  {
   "cell_type": "markdown",
   "metadata": {},
   "source": [
    "Il existe des fonctions natives de la librairie pour :\n",
    "- Dessiner une ligne (https://docs.opencv.org/2.4/modules/core/doc/drawing_functions.html#cv2.line)\n",
    "- Dessiner un rectangle (https://docs.opencv.org/2.4/modules/core/doc/drawing_functions.html#rectangle)\n",
    "- Dessiner un cercle (https://docs.opencv.org/2.4/modules/core/doc/drawing_functions.html#circle)\n",
    "- Dessiner du texte (https://docs.opencv.org/2.4/modules/core/doc/drawing_functions.html#puttext)"
   ]
  },
  {
   "cell_type": "code",
   "execution_count": null,
   "metadata": {},
   "outputs": [],
   "source": [
    "# Définition d'une image noire\n",
    "img_23 = createRgbColorImg(512, 512)\n",
    "\n",
    "# Dessine la diagonale rouge d'en haut à gauche jusqu'en bas à droite\n",
    "cv2.line(img_23, (0, 0), (512, 512), (0, 0, 255))\n",
    "\n",
    "# Dessine un rectangle vert au centre de l'image \n",
    "cv2.rectangle(img_23, (128, 128), (384, 384), (0, 255, 0))\n",
    "\n",
    "# Dessine un cercle bleu au centre de l'image de 128 de rayon\n",
    "cv2.circle(img_23, (256, 256), 128, (255, 0, 0))\n",
    "\n",
    "# Dessine un texte au centre de l'image\n",
    "cv2.putText(img_23, 'texte', (220, 256), cv2.FONT_HERSHEY_PLAIN, 1.5, (0, 125, 0))\n",
    "\n",
    "# Affichage de l'image avec la ligne, le cercle et le rectangle\n",
    "cv2.imshow(\"Image_2.3\", img_23)\n",
    "\n",
    "# Attente d'un entrée clavier utilisateur quelconque\n",
    "cv2.waitKey(0)\n",
    "\n",
    "# Ferme la fenêtre de l'image avec la ligne, le cercle et le rectangle\n",
    "cv2.destroyWindow(\"Image_2.3\")"
   ]
  },
  {
   "cell_type": "code",
   "execution_count": 3,
   "metadata": {},
   "outputs": [],
   "source": [
    "##QUESTION 3\n",
    "\n",
    "#ROUGE\n",
    "imgRouge = np.zeros((512,512,3),np.uint8)\n",
    "for i in range(len(imgRouge)):\n",
    "#     print(imgRouge[i])\n",
    "    for j in range(len(imgRouge[i])):\n",
    "        imgRouge[i][j]=[0,0,255]\n",
    "        \n",
    "#VERT\n",
    "imgVert = np.zeros((512,512,3),np.uint8)\n",
    "for i in range(len(imgVert)):\n",
    "#     print(imgVert[i])\n",
    "    for j in range(len(imgVert[i])):\n",
    "        imgVert[i][j]=[0,255,0]\n",
    "        \n",
    "#BLEU\n",
    "imgBleu = np.zeros((512,512,3),np.uint8)\n",
    "for i in range(len(imgBleu)):\n",
    "#     print(imgBleu[i])\n",
    "    for j in range(len(imgBleu[i])):\n",
    "        imgBleu[i][j]=[255,0,0]\n",
    "    \n",
    "# print(imgBleu) # pour afficher dans la console\n",
    "# print(img) # pour afficher dans la console\n",
    "\n",
    "#LIGNE SUR IMAGE ROUGE\n",
    "start_point = (0, 0)\n",
    "end_point = (220, 220)\n",
    "color = (0, 0, 0)\n",
    "thickness = 9\n",
    "imgRouge = cv2.line(imgRouge, start_point, end_point, color, thickness) \n",
    "\n",
    "#RECTANGLE SUR IMAGE VERTE\n",
    "start_point2 = (500, 500)\n",
    "end_point2 = (500, 500)\n",
    "color = (255, 0, 0)\n",
    "thickness = 5\n",
    "imgVert = cv2.rectangle(imgVert, start_point, end_point, color, thickness)\n",
    "\n",
    "#CERCLE SUR IMAGE BLEU\n",
    "center_coordinates = (120, 100)\n",
    "radius = 50\n",
    "color = (0, 0, 0)\n",
    "thickness = 9\n",
    "imgBleu = cv2.circle(imgBleu, center_coordinates, radius, color, thickness)\n",
    "\n",
    "#TEXT SUR IMAGE ROUGE\n",
    "font = cv2.FONT_HERSHEY_SIMPLEX\n",
    "org = (150, 50)\n",
    "fontScale = 1\n",
    "color = (255, 0, 0)\n",
    "thickness = 2\n",
    "imgRouge = cv2.putText(imgRouge, 'Hello', org, font, \n",
    "                   fontScale, color, thickness, cv2.LINE_AA)\n",
    "   \n",
    "\n",
    "cv2.imshow(\"ImageRouge\",imgRouge)\n",
    "cv2.imshow(\"ImageVert\",imgVert)\n",
    "cv2.imshow(\"ImageBleu\",imgBleu)\n",
    "\n",
    "cv2.waitKey(0)\n",
    "cv2.destroyWindow(\"ImageRouge\")\n",
    "cv2.destroyWindow(\"ImageVert\")\n",
    "cv2.destroyWindow(\"ImageBleu\")\n"
   ]
  },
  {
   "cell_type": "code",
   "execution_count": null,
   "metadata": {},
   "outputs": [],
   "source": []
  }
 ],
 "metadata": {
  "kernelspec": {
   "display_name": "Python 3",
   "language": "python",
   "name": "python3"
  },
  "language_info": {
   "codemirror_mode": {
    "name": "ipython",
    "version": 3
   },
   "file_extension": ".py",
   "mimetype": "text/x-python",
   "name": "python",
   "nbconvert_exporter": "python",
   "pygments_lexer": "ipython3",
   "version": "3.7.9"
  }
 },
 "nbformat": 4,
 "nbformat_minor": 4
}
